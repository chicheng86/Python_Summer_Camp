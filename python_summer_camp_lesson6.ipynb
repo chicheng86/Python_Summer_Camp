{
 "cells": [
  {
   "cell_type": "markdown",
   "metadata": {},
   "source": [
    "Recap1: difference between \"==\" and \"=\""
   ]
  },
  {
   "cell_type": "code",
   "execution_count": null,
   "metadata": {},
   "outputs": [],
   "source": [
    "#Recap\n",
    "a=2\n",
    "b=3\n",
    "a==b\n",
    "print(a,b)"
   ]
  },
  {
   "cell_type": "code",
   "execution_count": null,
   "metadata": {},
   "outputs": [],
   "source": [
    "a=2\n",
    "b=5\n",
    "a=b #assign the value of b to variable a, in that case, a=b=5\n",
    "print(a,b)"
   ]
  },
  {
   "cell_type": "markdown",
   "metadata": {},
   "source": [
    "Recap2: True/False combination"
   ]
  },
  {
   "cell_type": "code",
   "execution_count": null,
   "metadata": {},
   "outputs": [],
   "source": [
    "True and True and False"
   ]
  },
  {
   "cell_type": "code",
   "execution_count": null,
   "metadata": {},
   "outputs": [],
   "source": [
    "True and True or False"
   ]
  },
  {
   "cell_type": "code",
   "execution_count": null,
   "metadata": {},
   "outputs": [],
   "source": [
    "not(True and True and True)"
   ]
  },
  {
   "cell_type": "code",
   "execution_count": null,
   "metadata": {},
   "outputs": [],
   "source": [
    "True or True or True or False or False or False"
   ]
  },
  {
   "cell_type": "code",
   "execution_count": null,
   "metadata": {},
   "outputs": [],
   "source": [
    "False or True and True"
   ]
  },
  {
   "cell_type": "markdown",
   "metadata": {},
   "source": [
    "Recap 3 if/elif/else"
   ]
  },
  {
   "cell_type": "code",
   "execution_count": null,
   "metadata": {},
   "outputs": [],
   "source": [
    "n=5\n",
    "if n>4:\n",
    "    print('n is larger than 2')\n",
    "if n>2:\n",
    "    print('n is larger than 4')"
   ]
  },
  {
   "cell_type": "code",
   "execution_count": null,
   "metadata": {},
   "outputs": [],
   "source": [
    "n=5\n",
    "if n>2:\n",
    "    print('n is larger than 2')\n",
    "elif n>4:\n",
    "    print('n is larger than 4')\n",
    "else:\n",
    "    print('n is less than 2')"
   ]
  },
  {
   "cell_type": "code",
   "execution_count": null,
   "metadata": {
    "collapsed": true
   },
   "outputs": [],
   "source": [
    "# Edited based on Harry's code. Special thanks to Harry~~\n",
    "\n",
    "a=int(input('Please tell me a number: ')) \n",
    "r=a%2\n",
    "if r==0:\n",
    "    print('That number is even')\n",
    "else:\n",
    "    print('That number is odd')"
   ]
  },
  {
   "cell_type": "code",
   "execution_count": null,
   "metadata": {
    "collapsed": true
   },
   "outputs": [],
   "source": []
  },
  {
   "cell_type": "code",
   "execution_count": null,
   "metadata": {},
   "outputs": [],
   "source": [
    "# Edited based on Lucas's code\n",
    "\n",
    "import random\n",
    "x=random.randint(1,101)\n",
    "#x=8\n",
    "#print(x)\n",
    "user_answer=int(input('what number between 1-100 do you choose? (you only have one guess) '))\n",
    "if user_answer==x:\n",
    "    print('you got it!')\n",
    "elif user_answer>x:\n",
    "    print('too high!')\n",
    "else: \n",
    "    print('too low')\n",
    "print(x)"
   ]
  },
  {
   "cell_type": "markdown",
   "metadata": {},
   "source": [
    "What is the difference between for loop and while loop? "
   ]
  },
  {
   "cell_type": "code",
   "execution_count": null,
   "metadata": {
    "collapsed": true
   },
   "outputs": [],
   "source": [
    "for counter in range(6):\n",
    "    print(counter)"
   ]
  },
  {
   "cell_type": "code",
   "execution_count": null,
   "metadata": {},
   "outputs": [],
   "source": [
    "counter=0\n",
    "while counter<6:\n",
    "    print(counter)\n",
    "    counter=counter+1"
   ]
  },
  {
   "cell_type": "code",
   "execution_count": null,
   "metadata": {
    "collapsed": true
   },
   "outputs": [],
   "source": [
    "import random\n",
    "x=random.randint(1,101)\n",
    "#print(x)\n",
    "user_answer=int(input('what number between 1-100 do you choose?'))\n",
    "while not (user_answer==x):\n",
    "    if  user_answer>x:\n",
    "        print('too high!')\n",
    "        user_answer = input('choose another number between 1-100')\n",
    "        user_answer = int(user_answer)\n",
    "    else:\n",
    "        print('too low')\n",
    "        user_answer = input('choose another number between 1-100')\n",
    "        user_answer=int(user_answer)\n",
    "print('you got it!')"
   ]
  },
  {
   "cell_type": "code",
   "execution_count": null,
   "metadata": {},
   "outputs": [],
   "source": [
    "import random\n",
    "x=random.randint(1,101)\n",
    "print(x)\n",
    "user_answer=int(input('what number between 1-100 do you choose?'))\n",
    "if user_answer==x:\n",
    "        print('you got it')\n",
    "while not (user_answer==x):    \n",
    "    if  user_answer>x:\n",
    "        print('too high!')\n",
    "        user_answer = input('choose another number between 1-100')\n",
    "        user_answer = int(user_answer)\n",
    "    else:\n",
    "        print('too low')\n",
    "        user_answer = input('choose another number between 1-100')\n",
    "        user_answer=int(user_answer)\n"
   ]
  },
  {
   "cell_type": "code",
   "execution_count": null,
   "metadata": {},
   "outputs": [],
   "source": [
    "import random\n",
    "x=random.randint(1,101)\n",
    "print(x)\n",
    "user_answer=int(input('what number between 1-100 do you choose?'))\n",
    "if user_answer==x:\n",
    "        print('you got it')\n",
    "while not (user_answer==x):\n",
    "#while user_answer!=x\n",
    "    if  user_answer>x:\n",
    "        print('too high!')        \n",
    "    else:\n",
    "        print('too low')\n",
    "    user_answer = input('choose another number between 1-100')\n",
    "    user_answer=int(user_answer)\n",
    "print('you got it!')"
   ]
  },
  {
   "cell_type": "code",
   "execution_count": null,
   "metadata": {
    "collapsed": true
   },
   "outputs": [],
   "source": [
    "# Edited based on Lucas code\n",
    "\n",
    "\n",
    "import random\n",
    "import time\n",
    "print('welcome to the guess a number game!')\n",
    "time.sleep(1)\n",
    "print('***********************************')\n",
    "time.sleep(1)\n",
    "x=random.randint(1,101)\n",
    "print(x)\n",
    "time.sleep(1)\n",
    "user_answer=input('what number between 1-100 do you choose?')\n",
    "while not (user_answer==x):\n",
    "    if  user_answer>x:\n",
    "        print('too high!')\n",
    "        user_answer = input('choose another number between 1-100')\n",
    "        user_answer = int(user_answer)\n",
    "    else:\n",
    "        print('too low')\n",
    "        user_answer = input('choose another number between 1-100')\n",
    "        user_answer=int(user_answer)\n",
    "print('you got it!')"
   ]
  },
  {
   "cell_type": "markdown",
   "metadata": {},
   "source": []
  },
  {
   "cell_type": "code",
   "execution_count": null,
   "metadata": {
    "collapsed": true
   },
   "outputs": [],
   "source": []
  }
 ],
 "metadata": {
  "kernelspec": {
   "display_name": "Python 3",
   "language": "python",
   "name": "python3"
  },
  "language_info": {
   "codemirror_mode": {
    "name": "ipython",
    "version": 3
   },
   "file_extension": ".py",
   "mimetype": "text/x-python",
   "name": "python",
   "nbconvert_exporter": "python",
   "pygments_lexer": "ipython3",
   "version": "3.6.1"
  }
 },
 "nbformat": 4,
 "nbformat_minor": 2
}
